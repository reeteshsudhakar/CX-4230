{
 "cells": [
  {
   "cell_type": "code",
   "execution_count": 7,
   "id": "db99e3ba",
   "metadata": {},
   "outputs": [
    {
     "name": "stdout",
     "output_type": "stream",
     "text": [
      "[0.01]\n"
     ]
    },
    {
     "data": {
      "image/png": "[encoded data removed]",
      "text/plain": [
       "<Figure size 432x288 with 1 Axes>"
      ]
     },
     "metadata": {
      "needs_background": "light"
     },
     "output_type": "display_data"
    }
   ],
   "source": [
    "import matplotlib.pyplot as plt\n",
    "import scipy as sp\n",
    "\n",
    "t = 0\n",
    "\n",
    "I_t = 0.01\n",
    "S_t = 0.99\n",
    "R_t = 0\n",
    "\n",
    "tau = 0.8\n",
    "kappa = 4\n",
    "\n",
    "t = 0\n",
    "\n",
    "I_vals = []\n",
    "S_vals = []\n",
    "R_vals = []\n",
    "\n",
    "fig, ax = plt.subplots()\n",
    "\n",
    "def infected(t, y):\n",
    "    return -1 * tau * susceptible(t, y) * (1 - susceptible(t, y) - recovered(t, y))\n",
    "\n",
    "def susceptible(t, y):\n",
    "    return tau * (1 - infected(t, y) - recovered(t, y)) * infected(t, y) - (infected(t, y) / kappa)\n",
    "\n",
    "def recovered(t, y):\n",
    "    return infected(t, y) / kappa\n",
    "    \n",
    "\n",
    "while I_t >= 0.0001:\n",
    "    I_vals.append(I_t)\n",
    "    S_vals.append(S_t)\n",
    "    R_vals.append(R_t)\n",
    "    \n",
    "    nI_t = -1 * tau * S_t * I_t\n",
    "    nS_t = tau * S_t * I_t - (I_t / kappa)\n",
    "    nR_t = I_t / kappa\n",
    "    \n",
    "    I_t = nI_t\n",
    "    S_t = nS_t\n",
    "    R_t = nR_t\n",
    "    t += 1\n",
    "\n",
    "print(I_vals)\n",
    "ax.plot([i for i in range(t)], I_vals)\n",
    "plt.show()"
   ]
  },
  {
   "cell_type": "code",
   "execution_count": null,
   "id": "5564fe88",
   "metadata": {},
   "outputs": [],
   "source": []
  }
 ],
 "metadata": {
  "kernelspec": {
   "display_name": "Python 3 (ipykernel)",
   "language": "python",
   "name": "python3"
  },
  "language_info": {
   "codemirror_mode": {
    "name": "ipython",
    "version": 3
   },
   "file_extension": ".py",
   "mimetype": "text/x-python",
   "name": "python",
   "nbconvert_exporter": "python",
   "pygments_lexer": "ipython3",
   "version": "3.9.17"
  }
 },
 "nbformat": 4,
 "nbformat_minor": 5
}
